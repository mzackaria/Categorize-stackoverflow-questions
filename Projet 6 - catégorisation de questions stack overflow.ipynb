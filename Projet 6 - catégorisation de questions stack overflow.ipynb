{
 "cells": [
  {
   "cell_type": "markdown",
   "metadata": {},
   "source": [
    "# Test des méthodes de taguage - Catégorisez automatiquement des questions\n",
    "\n",
    "## Introduction \n",
    "\n",
    "Nous avons dans une précédente partie étudier un dataset composée de questions issus du site stck overflows. les questions sont composées de titre, du corps de la question et de tags. Nous avons dans un premier temps effectuer un plongement de mots pour représenté notre texte via une matrice de type bag of words. A noter que nous n'avons retenus que les 600 mots les plus utilisées de notre vocabulaire.\n",
    "\n",
    "Nous allons essayer dans cette partie de nous concentrer sur l'automatisation du taggage: essayer de générer de manière automatique des tags liés à la question. \n",
    "\n",
    "## Approche non supervisée\n",
    "\n",
    "Nous allons tout d'abord essayer de taguer nos questions de manière non supervisées. Nous allons utilisés la matrice précédement généré et nous allons utilisé l'algorithme de Dirichlet: 'Latent Dirichlet Allocation'. Cette algorithme va nous permettre de générer des sujets composées de mots."
   ]
  },
  {
   "cell_type": "code",
   "execution_count": 3,
   "metadata": {
    "collapsed": true
   },
   "outputs": [],
   "source": [
    "import pandas as pd\n",
    "BOW = pd.read_csv('BOW.csv')\n",
    "BOW = BOW.drop('Unnamed: 0', 1)"
   ]
  },
  {
   "cell_type": "markdown",
   "metadata": {},
   "source": [
    "Pour trouver l'algorithme le plus performant, nous allons effectuer un gridsearch sur le nombre de topics. Cette opération peut durer assez longtemps"
   ]
  },
  {
   "cell_type": "code",
   "execution_count": 6,
   "metadata": {},
   "outputs": [
    {
     "data": {
      "text/plain": [
       "GridSearchCV(cv=None, error_score='raise',\n",
       "       estimator=LatentDirichletAllocation(batch_size=128, doc_topic_prior=None,\n",
       "             evaluate_every=-1, learning_decay=0.7,\n",
       "             learning_method='online', learning_offset=10.0,\n",
       "             max_doc_update_iter=100, max_iter=10, mean_change_tol=0.001,\n",
       "             n_jobs=-1, n_topics=10, perp_tol=0.1, random_state=None,\n",
       "             topic_word_prior=None, total_samples=1000000.0, verbose=0),\n",
       "       fit_params={}, iid=True, n_jobs=1,\n",
       "       param_grid={'n_topics': [5, 6, 7, 8, 9, 10, 11, 12, 15, 18, 20, 30, 50, 75, 100]},\n",
       "       pre_dispatch='2*n_jobs', refit=True, return_train_score=True,\n",
       "       scoring=None, verbose=0)"
      ]
     },
     "execution_count": 6,
     "metadata": {},
     "output_type": "execute_result"
    }
   ],
   "source": [
    "from sklearn.decomposition import LatentDirichletAllocation\n",
    "from sklearn.model_selection import GridSearchCV\n",
    "lda = LatentDirichletAllocation(learning_method='online', n_jobs=-1)\n",
    "\n",
    "search_params = {'n_topics': [5, 6 ,7, 8, 9, 10, 11, 12, 15, 18, 20, 30, 50, 75, 100]}\n",
    "model = GridSearchCV(lda, param_grid=search_params)\n",
    "model.fit(BOW.values)"
   ]
  },
  {
   "cell_type": "code",
   "execution_count": 9,
   "metadata": {},
   "outputs": [
    {
     "data": {
      "text/plain": [
       "<bound method BaseEstimator.get_params of LatentDirichletAllocation(batch_size=128, doc_topic_prior=None,\n",
       "             evaluate_every=-1, learning_decay=0.7,\n",
       "             learning_method='online', learning_offset=10.0,\n",
       "             max_doc_update_iter=100, max_iter=10, mean_change_tol=0.001,\n",
       "             n_jobs=-1, n_topics=5, perp_tol=0.1, random_state=None,\n",
       "             topic_word_prior=None, total_samples=1000000.0, verbose=0)>"
      ]
     },
     "execution_count": 9,
     "metadata": {},
     "output_type": "execute_result"
    }
   ],
   "source": [
    "lda_best = model.best_estimator_\n",
    "lda_best.get_params"
   ]
  },
  {
   "cell_type": "markdown",
   "metadata": {},
   "source": [
    "Pour comparer ces modèles nous allons utilisés une mesure: log likelihood"
   ]
  },
  {
   "cell_type": "code",
   "execution_count": 30,
   "metadata": {},
   "outputs": [
    {
     "name": "stderr",
     "output_type": "stream",
     "text": [
      "c:\\users\\zakis\\anaconda3\\lib\\site-packages\\sklearn\\model_selection\\_search.py:667: DeprecationWarning: The grid_scores_ attribute was deprecated in version 0.18 in favor of the more elaborate cv_results_ attribute. The grid_scores_ attribute will not be available from 0.20\n",
      "  DeprecationWarning)\n"
     ]
    },
    {
     "data": {
      "text/plain": [
       "<matplotlib.text.Text at 0x1ad1d618048>"
      ]
     },
     "execution_count": 30,
     "metadata": {},
     "output_type": "execute_result"
    },
    {
     "data": {
      "image/png": "[encoded data removed]",
      "text/plain": [
       "<matplotlib.figure.Figure at 0x1ad1d57a7f0>"
      ]
     },
     "metadata": {},
     "output_type": "display_data"
    }
   ],
   "source": [
    "%matplotlib inline\n",
    "import matplotlib.pyplot as plt\n",
    "n_topics = [5, 6 ,7, 8, 9, 10, 11, 12, 15, 18, 20, 30, 50, 75, 100]\n",
    "log_likelyhoods = [round(gscore.mean_validation_score) for gscore in model.grid_scores_]\n",
    "plt.plot(n_topics, log_likelyhoods)\n",
    "plt.xlabel('nb topics')\n",
    "plt.ylabel('log likelihood')"
   ]
  },
  {
   "cell_type": "markdown",
   "metadata": {},
   "source": [
    "On voit que le nombre de topics optimal est 5, ce qui semble peut pour expliquer tous nos documents. Regardons de plus près qu'elles sont ces topics."
   ]
  },
  {
   "cell_type": "code",
   "execution_count": null,
   "metadata": {
    "collapsed": true
   },
   "outputs": [],
   "source": [
    "lda_best = LatentDirichletAllocation(learning_method='online', n_jobs=-1, nb_topics=5)\n",
    "lda_best.fit(BOW.values)"
   ]
  },
  {
   "cell_type": "markdown",
   "metadata": {},
   "source": [
    "Nous allons pour cela essayer d'afficher les 10 mots les plus probables par topics pour avoir une idée du sujet en question."
   ]
  },
  {
   "cell_type": "code",
   "execution_count": 34,
   "metadata": {
    "collapsed": true
   },
   "outputs": [],
   "source": [
    "# column names\n",
    "topicnames = [\"Topic\" + str(i) for i in range(lda_best.n_topics)]\n",
    "\n",
    "# Topic-Keyword Matrix\n",
    "df_topic_keywords = pd.DataFrame(lda_best.components_)\n",
    "\n",
    "# Assign Column and Index\n",
    "df_topic_keywords.columns = BOW.columns\n",
    "df_topic_keywords.index = topicnames\n",
    "\n",
    "import numpy as np\n",
    "x = np.argsort(-df_topic_keywords.values, axis = 1)\n",
    "y = np.asarray(df_topic_keywords.columns[x].tolist()).reshape((5,600)).astype(str)"
   ]
  },
  {
   "cell_type": "code",
   "execution_count": 36,
   "metadata": {
    "scrolled": true
   },
   "outputs": [
    {
     "name": "stdout",
     "output_type": "stream",
     "text": [
      "[['thi' 'class' 'string' 'object' 'return' 'public' 'new' 'int' 'function'\n",
      "  'method']\n",
      " ['file' 'java' 'error' 'system' 'server' 'run' 'window' 'thread' 'servic'\n",
      "  'script']\n",
      " ['use' 'thi' 'would' 'like' 'ani' 'code' 'way' 'one' 'work' 'time']\n",
      " ['id' 'tabl' 'name' 'thi' 'select' 'valu' 'key' 'data' 'sql' 'databas']\n",
      " ['user' 'thi' 'page' 'use' 'control' 'html' 'form' 'http' 'view' 'net']]\n"
     ]
    }
   ],
   "source": [
    "print(y[:,:10])"
   ]
  },
  {
   "cell_type": "markdown",
   "metadata": {},
   "source": [
    "On peut essayer de donner un intitulé à chacun de ces topics: \n",
    "\n",
    "1 - language orienté objet\n",
    "2 - réseaux\n",
    "3 - pas de sujet précis\n",
    "4 - database\n",
    "5 - front end, html, css..."
   ]
  },
  {
   "cell_type": "markdown",
   "metadata": {},
   "source": [
    "Ces sujets sont censés nous donnés la base de nos quelques 200000 documents, ce qui nous semble être très peu, voyons comment il se comporte sur les premiers documents"
   ]
  },
  {
   "cell_type": "code",
   "execution_count": 6,
   "metadata": {
    "collapsed": true
   },
   "outputs": [],
   "source": [
    "df = pd.read_csv('Query.csv', encoding='latin-1')"
   ]
  },
  {
   "cell_type": "code",
   "execution_count": 39,
   "metadata": {},
   "outputs": [
    {
     "name": "stdout",
     "output_type": "stream",
     "text": [
      "While applying opacity to a form, should we use a decimal or a double value?\n",
      "<p>I want to use a track-bar to change a form's opacity.</p>\n",
      "\n",
      "<p>This is my code:</p>\n",
      "\n",
      "<pre><code>decimal trans = trackBar1.Value / 5000;\n",
      "this.Opacity = trans;\n",
      "</code></pre>\n",
      "\n",
      "<p>When I build the application, it gives the following error:</p>\n",
      "\n",
      "<blockquote>\n",
      "  <p>Cannot implicitly convert type <code>'decimal'</code> to <code>'double'</code>.</p>\n",
      "</blockquote>\n",
      "\n",
      "<p>I tried using <code>trans</code> and <code>double</code> but then the control doesn't work. This code worked fine in a past VB.NET project.</p>\n",
      "\n"
     ]
    }
   ],
   "source": [
    "print(df['Title'][0])\n",
    "print(df['Body'][0])"
   ]
  },
  {
   "cell_type": "code",
   "execution_count": 43,
   "metadata": {
    "collapsed": true
   },
   "outputs": [],
   "source": [
    "# Create Document - Topic Matrix\n",
    "lda_output = lda_best.transform(BOW.values)"
   ]
  },
  {
   "cell_type": "code",
   "execution_count": 45,
   "metadata": {},
   "outputs": [
    {
     "data": {
      "text/plain": [
       "array([ 0.53665479,  0.00585954,  0.20443982,  0.00580943,  0.24723642])"
      ]
     },
     "execution_count": 45,
     "metadata": {},
     "output_type": "execute_result"
    }
   ],
   "source": [
    "lda_output[0,:]"
   ]
  },
  {
   "cell_type": "markdown",
   "metadata": {},
   "source": [
    "On voit que la question est identifié plutôt identifié sur les topics: orientée objet et front end. \n",
    "\n",
    "Regardons un autre exemple:"
   ]
  },
  {
   "cell_type": "code",
   "execution_count": 46,
   "metadata": {},
   "outputs": [
    {
     "name": "stdout",
     "output_type": "stream",
     "text": [
      "Percentage width child element in absolutely positioned parent on Internet Explorer 7\n",
      "<p>I have an absolutely positioned <code>div</code> containing several children, one of which is a relatively positioned <code>div</code>. When I use a <strong>percentage-based width</strong> on the child <code>div</code>, it collapses to '0' width on <a href=\"http://en.wikipedia.org/wiki/Internet_Explorer_7\" rel=\"noreferrer\">Internet&nbsp;Explorer&nbsp;7</a>, but not on Firefox or Safari.</p>\n",
      "\n",
      "<p>If I use <strong>pixel width</strong>, it works. If the parent is relatively positioned, the percentage width on the child works.</p>\n",
      "\n",
      "<ol>\n",
      "<li>Is there something I'm missing here?</li>\n",
      "<li>Is there an easy fix for this besides the <em>pixel-based width</em> on the\n",
      "child?</li>\n",
      "<li>Is there an area of the CSS specification that covers this?</li>\n",
      "</ol>\n",
      "\n",
      "[ 0.00534982  0.00529059  0.00543081  0.97859047  0.0053383 ]\n"
     ]
    }
   ],
   "source": [
    "print(df['Title'][1])\n",
    "print(df['Body'][1])\n",
    "print(lda_output[1,:])"
   ]
  },
  {
   "cell_type": "markdown",
   "metadata": {},
   "source": [
    "On a une question plutôt orienté front end et on voit que le taggage est uniquement orienté back end...\n",
    "\n",
    "On peut en conclure que ce taguage n'est pas bon ici pour deux raisons: topics trop peu spécifiques, attribution des topics aux documents pas assez pertinent."
   ]
  },
  {
   "cell_type": "markdown",
   "metadata": {},
   "source": [
    "On peut essayer de voir lorsque l'on prend un nombre de sujets plus grand si on a la possiblité d'avoir un taging plus précis et plus pertinent."
   ]
  },
  {
   "cell_type": "code",
   "execution_count": 5,
   "metadata": {},
   "outputs": [
    {
     "data": {
      "text/plain": [
       "LatentDirichletAllocation(batch_size=128, doc_topic_prior=None,\n",
       "             evaluate_every=-1, learning_decay=0.7,\n",
       "             learning_method='online', learning_offset=10.0,\n",
       "             max_doc_update_iter=100, max_iter=10, mean_change_tol=0.001,\n",
       "             n_jobs=-1, n_topics=15, perp_tol=0.1, random_state=None,\n",
       "             topic_word_prior=None, total_samples=1000000.0, verbose=0)"
      ]
     },
     "execution_count": 5,
     "metadata": {},
     "output_type": "execute_result"
    }
   ],
   "source": [
    "from sklearn.decomposition import LatentDirichletAllocation\n",
    "lda_best = LatentDirichletAllocation(learning_method='online', n_jobs=-1, n_topics=15)\n",
    "lda_best.fit(BOW.values)"
   ]
  },
  {
   "cell_type": "code",
   "execution_count": 6,
   "metadata": {
    "collapsed": true
   },
   "outputs": [],
   "source": [
    "# column names\n",
    "topicnames = [\"Topic\" + str(i) for i in range(15)]\n",
    "\n",
    "# Topic-Keyword Matrix\n",
    "df_topic_keywords = pd.DataFrame(lda_best.components_)\n",
    "\n",
    "# Assign Column and Index\n",
    "df_topic_keywords.columns = BOW.columns\n",
    "df_topic_keywords.index = topicnames\n",
    "\n",
    "import numpy as np\n",
    "x = np.argsort(-df_topic_keywords.values, axis = 1)\n",
    "y = np.asarray(df_topic_keywords.columns[x].tolist()).reshape((15,400)).astype(str)"
   ]
  },
  {
   "cell_type": "code",
   "execution_count": 7,
   "metadata": {},
   "outputs": [
    {
     "name": "stdout",
     "output_type": "stream",
     "text": [
      "[['thi' 'use' 'like' 'way' 'would' 'time' 'one' 'want' 'object' 'foo']\n",
      " ['page' 'control' 'html' 'view' 'javascript' 'asp' 'jqueri' 'style' 'load'\n",
      "  'thi']\n",
      " ['use' 'thi' 'java' 'like' 'ani' 'would' 'code' 'know' 'doe' 'work']\n",
      " ['valu' 'id' 'tabl' 'select' 'name' 'key' 'thi' 'properti' 'queri'\n",
      "  'column']\n",
      " ['file' 'line' 'script' 'div' 'thi' 'command' 'path' 'use' 'directori'\n",
      "  'width']\n",
      " ['user' 'form' 'php' 'app' 'button' 'custom' 'input' 'browser' 'click'\n",
      "  'action']\n",
      " ['name' 'type' 'code' 'url' 'includ' 'post' 'output' 'compil' 'search'\n",
      "  'print']\n",
      " ['server' 'data' 'web' 'applic' 'servic' 'connect' 'use' 'databas'\n",
      "  'client' 'net']\n",
      " ['python' 'xml' 'model' 'import' 'templat' 'node' 'context' 'td' 'parent'\n",
      "  'pattern']\n",
      " ['text' 'string' 'array' 'imag' 'size' 'format' 'convert' 'tag' 'byte'\n",
      "  'charact']\n",
      " ['test' 'project' 'build' 'version' 'sourc' 'instal' 'develop' 'android'\n",
      "  'visual' 'tool']\n",
      " ['http' 'com' 'request' 'org' 'memori' 'lib' 'www' 'rubi' 'microsoft'\n",
      "  'respons']\n",
      " ['class' 'public' 'return' 'int' 'new' 'object' 'method' 'string' 'thi'\n",
      "  'function']\n",
      " ['error' 'system' 'window' 'except' 'thi' 'messag' 'log' 'run' 'set' 'tri']\n",
      " ['list' 'item' 'element' 'number' 'self' 'sort' 'address' 'count'\n",
      "  'collect' 'add']]\n"
     ]
    }
   ],
   "source": [
    "print(y[:,:10])"
   ]
  },
  {
   "cell_type": "markdown",
   "metadata": {},
   "source": [
    "On voit ici un peu plus de précision quant aux sujets abordées, cependant les sujets nous semblent encore trop vague pour pouvoir caractériser tous nos documents. Ils semblent donc que cette approche ne sera pas celle que l'on retiendra."
   ]
  },
  {
   "cell_type": "markdown",
   "metadata": {},
   "source": [
    "On voit cependant que notre représentation utilise les mots les plus fréquents. C'est potentiellement parce qu'on a entrainer notre algorithme sur une représentation tf. Nous allons maintenant étudiés une représentation tf-idf malgré ce qu'on a vu dans la précédente partie c'est à dire que la fréquence des documents n'apporte pas beaucoup d'informations"
   ]
  },
  {
   "cell_type": "markdown",
   "metadata": {},
   "source": [
    "## Clustering avec une matrice tf-idf\n",
    "\n",
    "On charge notre texte cleané (travail de la partie précédente)."
   ]
  },
  {
   "cell_type": "code",
   "execution_count": 51,
   "metadata": {
    "collapsed": true
   },
   "outputs": [],
   "source": [
    "import pandas as pd\n",
    "df_tf_idf = pd.read_csv('tf_idf.csv')\n",
    "values = df_tf_idf.values"
   ]
  },
  {
   "cell_type": "code",
   "execution_count": 65,
   "metadata": {
    "collapsed": true
   },
   "outputs": [],
   "source": [
    "from sklearn.decomposition import NMF\n",
    "nmf = NMF(n_components=10, random_state=1, alpha=.1, l1_ratio=.5, init='nndsvd').fit(values)"
   ]
  },
  {
   "cell_type": "code",
   "execution_count": 60,
   "metadata": {},
   "outputs": [
    {
     "name": "stdout",
     "output_type": "stream",
     "text": [
      "Topic 0:\n",
      "use thi would code like ani know time one way\n",
      "Topic 1:\n",
      "valu int list function array return type thi item error\n",
      "Topic 2:\n",
      "file directori line folder path open command read xml project\n",
      "Topic 3:\n",
      "tabl sql databas queri column select id row data server\n",
      "Topic 4:\n",
      "imag text html page div javascript jqueri button css form\n",
      "Topic 5:\n",
      "class public object method static name properti new void type\n",
      "Topic 6:\n",
      "string charact convert format public text char new thi match\n",
      "Topic 7:\n",
      "test unit run code write framework fail project build method\n",
      "Topic 8:\n",
      "java org eclips thread librari jar util com apach applic\n",
      "Topic 9:\n",
      "net applic asp web window server servic user control mvc\n"
     ]
    }
   ],
   "source": [
    "def display_topics(model, feature_names, no_top_words):\n",
    "    for topic_idx, topic in enumerate(model.components_):\n",
    "        print(\"Topic %d:\" % (topic_idx))\n",
    "        print(\" \".join([feature_names[i]\n",
    "                        for i in topic.argsort()[:-no_top_words - 1:-1]]))\n",
    "\n",
    "no_top_words = 10\n",
    "display_topics(nmf, df_tf_idf.columns(), no_top_words)"
   ]
  },
  {
   "cell_type": "markdown",
   "metadata": {},
   "source": [
    "On retrouve approximativement les mêmes sujets que ceux abordés avec une représentation tf. On va donc maintenant se concentrer sur des méthodes supervisées."
   ]
  },
  {
   "cell_type": "markdown",
   "metadata": {},
   "source": [
    "## Taguage supervisé\n",
    "\n",
    "On va dans un premier temps étudié les tags que nous renvoient la requête à stackexchange.\n"
   ]
  },
  {
   "cell_type": "code",
   "execution_count": 9,
   "metadata": {},
   "outputs": [
    {
     "data": {
      "text/plain": [
       "0    <c#><winforms><type-conversion><decimal><opacity>\n",
       "1               <html><css><css3><internet-explorer-7>\n",
       "2                                 <c#><.net><datetime>\n",
       "3    <c#><datetime><time><datediff><relative-time-s...\n",
       "4    <javascript><html><browser><timezone><timezone...\n",
       "Name: Tags, dtype: object"
      ]
     },
     "execution_count": 9,
     "metadata": {},
     "output_type": "execute_result"
    }
   ],
   "source": [
    "df['Tags'].head()"
   ]
  },
  {
   "cell_type": "markdown",
   "metadata": {},
   "source": [
    "Il va nous falloir séparer ces tags proprement."
   ]
  },
  {
   "cell_type": "code",
   "execution_count": 7,
   "metadata": {
    "collapsed": true
   },
   "outputs": [],
   "source": [
    "tags = [t[1:len(t) - 1].split('><') for t in df['Tags']]"
   ]
  },
  {
   "cell_type": "markdown",
   "metadata": {},
   "source": [
    "Nous allons essayer de limiter le nombre de tags pour ne pas les prendre en compte tous car l'attribution d'un tag va être de plus en plus difficile plus les tags ont une fréquence faible."
   ]
  },
  {
   "cell_type": "code",
   "execution_count": 9,
   "metadata": {},
   "outputs": [
    {
     "name": "stdout",
     "output_type": "stream",
     "text": [
      "[['c#' '25400']\n",
      " ['java' '16706']\n",
      " ['.net' '14168']\n",
      " ['c++' '11169']\n",
      " ['python' '10136']\n",
      " ['javascript' '9156']\n",
      " ['php' '8324']\n",
      " ['asp.net' '6562']\n",
      " ['jquery' '5760']\n",
      " ['sql' '5546']\n",
      " ['iphone' '5406']\n",
      " ['c' '5269']\n",
      " ['html' '4553']\n",
      " ['sql-server' '4394']\n",
      " ['mysql' '3894']\n",
      " ['wpf' '3649']\n",
      " ['asp.net-mvc' '3525']\n",
      " ['ruby' '3381']\n",
      " ['windows' '3375']\n",
      " ['css' '3313']\n",
      " ['ruby-on-rails' '3297']\n",
      " ['objective-c' '3217']\n",
      " ['visual-studio' '2738']\n",
      " ['performance' '2686']\n",
      " ['linux' '2683']\n",
      " ['database' '2623']\n",
      " ['django' '2418']\n",
      " ['android' '2361']\n",
      " ['algorithm' '2327']\n",
      " ['string' '2307']\n",
      " ['xml' '2287']\n",
      " ['multithreading' '2287']\n",
      " ['winforms' '2213']\n",
      " ['regex' '2065']\n",
      " ['perl' '1965']\n",
      " ['svn' '1919']\n",
      " ['unit-testing' '1891']\n",
      " ['eclipse' '1850']\n",
      " ['git' '1751']\n",
      " ['arrays' '1733']\n",
      " ['linq' '1716']\n",
      " ['visual-studio-2008' '1652']\n",
      " ['delphi' '1643']\n",
      " ['vb.net' '1586']\n",
      " ['cocoa' '1548']\n",
      " ['cocoa-touch' '1534']\n",
      " ['macos' '1528']\n",
      " ['oop' '1527']\n",
      " ['debugging' '1501']\n",
      " ['language-agnostic' '1499']\n",
      " ['security' '1496']\n",
      " ['ajax' '1396']\n",
      " ['oracle' '1379']\n",
      " ['wcf' '1379']\n",
      " ['user-interface' '1317']\n",
      " ['version-control' '1305']\n",
      " ['tsql' '1299']\n",
      " ['sql-server-2005' '1187']\n",
      " ['web-services' '1175']\n",
      " ['design-patterns' '1164']\n",
      " ['generics' '1154']\n",
      " ['winapi' '1111']\n",
      " ['vim' '1077']\n",
      " ['bash' '1077']\n",
      " ['design' '1072']\n",
      " ['exception' '1059']\n",
      " ['http' '1048']\n",
      " ['image' '1011']\n",
      " ['math' '1004']\n",
      " ['file' '995']\n",
      " ['optimization' '944']\n",
      " ['unix' '920']\n",
      " ['json' '914']\n",
      " ['datetime' '910']\n",
      " ['parsing' '883']\n",
      " ['linq-to-sql' '869']\n",
      " ['reflection' '868']\n",
      " ['list' '863']\n",
      " ['hibernate' '858']\n",
      " ['testing' '848']\n",
      " ['silverlight' '846']\n",
      " ['nhibernate' '842']\n",
      " ['shell' '842']\n",
      " ['emacs' '840']\n",
      " ['xcode' '800']\n",
      " ['events' '798']\n",
      " ['spring' '784']\n",
      " ['database-design' '779']\n",
      " ['memory-management' '773']\n",
      " ['swing' '770']\n",
      " ['validation' '765']\n",
      " ['class' '746']\n",
      " ['excel' '746']\n",
      " ['logging' '734']\n",
      " ['apache' '732']\n",
      " ['xaml' '724']\n",
      " ['templates' '723']\n",
      " ['internet-explorer' '717']\n",
      " ['coding-style' '715']\n",
      " ['scala' '708']]\n"
     ]
    }
   ],
   "source": [
    "import numpy as np\n",
    "words = []\n",
    "for t in tags:\n",
    "     words += t\n",
    "\n",
    "from collections import Counter\n",
    "freq_totale = Counter(words)\n",
    "print(np.array(freq_totale.most_common(100)))"
   ]
  },
  {
   "cell_type": "markdown",
   "metadata": {},
   "source": [
    "Nous avons décidé de ne garder que les 50 premiers tags les plus fréquents pour limiter les calculs que l'on va engendrer avec nos algorithmes de classifications. De plus, nous souhaitons proposer un taguage pour des utilisateurs nouveaux, l'esprit de cette démarche est d'orienter l'utilisateur pour qu'ils comprennent le fonctionnement du site, il parait donc inutile de proposer un taguage trop précis qui va engendrer des erreurs trop importantes."
   ]
  },
  {
   "cell_type": "code",
   "execution_count": 10,
   "metadata": {
    "collapsed": true
   },
   "outputs": [],
   "source": [
    "mostcommon = np.array(freq_totale.most_common(50))\n",
    "\n",
    "#removing the common words from tags\n",
    "final_tags = []\n",
    "for ts in tags:\n",
    "    final_tags.append([word for word in ts if word in mostcommon])\n",
    "final_tags = np.array(final_tags)"
   ]
  },
  {
   "cell_type": "markdown",
   "metadata": {},
   "source": [
    "On retire de notre liste de tags les tags les plus utilisés"
   ]
  },
  {
   "cell_type": "code",
   "execution_count": 11,
   "metadata": {
    "collapsed": true
   },
   "outputs": [],
   "source": [
    "#removing the empty lists of tags  \n",
    "# argument where the list of tags is not empty\n",
    "arg_is_empty = np.array([i for i in range(0, len(final_tags)) if not final_tags[i]]).astype(int)\n",
    "#array of boolean to keep non empty values\n",
    "is_not_empty = ~np.in1d(np.arange(0, len(final_tags)), arg_is_empty)\n",
    "final_tags = final_tags[is_not_empty]\n",
    "BOW = BOW[is_not_empty]        \n",
    "\n",
    "length = len(sorted(final_tags,key=len, reverse=True)[0])\n",
    "y=np.array([xi+[None]*(length-len(xi)) for xi in final_tags])\n",
    "x = pd.DataFrame(y)"
   ]
  },
  {
   "cell_type": "code",
   "execution_count": 13,
   "metadata": {
    "collapsed": true
   },
   "outputs": [],
   "source": [
    "x.to_csv('tags_cleaned.csv')\n",
    "BOW.to_csv('BOW_final.csv')"
   ]
  },
  {
   "cell_type": "markdown",
   "metadata": {},
   "source": [
    "Nous allons préparer notre sortie et séparer les donner de tests et d'entrainement."
   ]
  },
  {
   "cell_type": "code",
   "execution_count": 1,
   "metadata": {
    "collapsed": true
   },
   "outputs": [],
   "source": [
    "import pandas as pd\n",
    "tags = pd.read_csv('tags_cleaned.csv')\n",
    "tags = tags.drop('Unnamed: 0', 1)\n",
    "BOW = pd.read_csv('BOW_final.csv')\n",
    "BOW = BOW.drop('Unnamed: 0', 1)"
   ]
  },
  {
   "cell_type": "code",
   "execution_count": 2,
   "metadata": {
    "collapsed": true
   },
   "outputs": [],
   "source": [
    "from sklearn.preprocessing import MultiLabelBinarizer\n",
    "multilabel_binarizer = MultiLabelBinarizer().fit(tags.values.astype(str))\n",
    "y = multilabel_binarizer.transform(tags.values.astype(str))"
   ]
  },
  {
   "cell_type": "code",
   "execution_count": 3,
   "metadata": {
    "collapsed": true
   },
   "outputs": [],
   "source": [
    "import numpy as np\n",
    "y = np.delete(y, 29, 1) "
   ]
  },
  {
   "cell_type": "code",
   "execution_count": 4,
   "metadata": {},
   "outputs": [
    {
     "name": "stderr",
     "output_type": "stream",
     "text": [
      "C:\\Users\\zakis\\Anaconda3\\lib\\site-packages\\sklearn\\cross_validation.py:44: DeprecationWarning: This module was deprecated in version 0.18 in favor of the model_selection module into which all the refactored classes and functions are moved. Also note that the interface of the new CV iterators are different from that of this module. This module will be removed in 0.20.\n",
      "  \"This module will be removed in 0.20.\", DeprecationWarning)\n"
     ]
    }
   ],
   "source": [
    "from sklearn.cross_validation import train_test_split\n",
    "X_train, X_test, y_train, y_test = train_test_split(BOW.values, y, test_size=0.2, random_state=0)"
   ]
  },
  {
   "cell_type": "markdown",
   "metadata": {},
   "source": [
    "#### Logistic Regression"
   ]
  },
  {
   "cell_type": "markdown",
   "metadata": {},
   "source": [
    "Nos tags sont prêts pour l'entrainement supervisé. Il nous faut choisir maintenant la famille d'algorithme que nous allons utilisés. On rappelle que notre problème est un problème de classification supervisée avec une sortie multiple. Nous allons tout d'abord essayer l'algorithme qui nous semble le plus simple (linéaire) et qui est la LogisticRegression. \n",
    "\n",
    "Comme notre algorithme ne peut classifier avec une sortie multiple, nous allons utilisés un label binarizer qui va nous permettre d'entrainer notre algorithme sur chacune des sorties."
   ]
  },
  {
   "cell_type": "code",
   "execution_count": 5,
   "metadata": {},
   "outputs": [
    {
     "name": "stdout",
     "output_type": "stream",
     "text": [
      "0.276642237612\n"
     ]
    }
   ],
   "source": [
    "from skmultilearn.problem_transform import BinaryRelevance\n",
    "from sklearn.linear_model import LogisticRegression\n",
    "from sklearn.metrics import accuracy_score\n",
    "\n",
    "classifier = BinaryRelevance(LogisticRegression(n_jobs=5))\n",
    "classifier.fit(X_train, y_train)\n",
    "\n",
    "#estimate the best predicted tags\n",
    "y_pred_lr = classifier.predict(X_test)\n",
    "print(accuracy_score(y_test, y_pred_lr))"
   ]
  },
  {
   "cell_type": "markdown",
   "metadata": {},
   "source": [
    "Sans essayer de vouloir tout de suite estimer la capacité de cet algorithme à prévoir des tags, on peut tout de suite noter que cette méthode demande des calculs conséquents: on va devoir effectuer une classification par tag. \n",
    "\n",
    "Nous allons donc maintenant observer le fonctionnement d'algorithmes qui sont adaptés à la classification à sortie multiple."
   ]
  },
  {
   "cell_type": "markdown",
   "metadata": {},
   "source": [
    "#### Classifieur K voisins"
   ]
  },
  {
   "cell_type": "code",
   "execution_count": 21,
   "metadata": {},
   "outputs": [
    {
     "name": "stdout",
     "output_type": "stream",
     "text": [
      "0.169636253614\n"
     ]
    }
   ],
   "source": [
    "from sklearn.neighbors import KNeighborsClassifier\n",
    "knc = KNeighborsClassifier()\n",
    "knc = knc.fit(X_train, y_train)\n",
    "\n",
    "#estimate the best predicted tags\n",
    "y_pred = knc.predict(X_test)\n",
    "print(accuracy_score(y_test, y_pred))"
   ]
  },
  {
   "cell_type": "markdown",
   "metadata": {},
   "source": [
    "#### ExtraTreesClassifier"
   ]
  },
  {
   "cell_type": "code",
   "execution_count": 6,
   "metadata": {},
   "outputs": [
    {
     "name": "stdout",
     "output_type": "stream",
     "text": [
      "0.217676326229\n"
     ]
    }
   ],
   "source": [
    "from sklearn.ensemble import ExtraTreesClassifier\n",
    "from sklearn.metrics import accuracy_score\n",
    "extra_trees = ExtraTreesClassifier(n_estimators=50)\n",
    "extra_trees = extra_trees.fit(X_train, y_train)\n",
    "\n",
    "#estimate the best predicted tags\n",
    "y_pred_extra_trees = extra_trees.predict(X_test)\n",
    "print(accuracy_score(y_test, y_pred_extra_trees))"
   ]
  },
  {
   "cell_type": "markdown",
   "metadata": {},
   "source": [
    "#### Random Forest"
   ]
  },
  {
   "cell_type": "code",
   "execution_count": 7,
   "metadata": {},
   "outputs": [
    {
     "name": "stdout",
     "output_type": "stream",
     "text": [
      "0.306528608889\n"
     ]
    }
   ],
   "source": [
    "from sklearn.ensemble import RandomForestClassifier\n",
    "from sklearn.metrics import accuracy_score\n",
    "forest = RandomForestClassifier(n_estimators=50)\n",
    "forest = forest.fit(X_train, y_train)\n",
    "\n",
    "#estimate the best predicted tags\n",
    "y_pred_forest = forest.predict(X_test)\n",
    "print(accuracy_score(y_test, y_pred_forest))"
   ]
  },
  {
   "cell_type": "markdown",
   "metadata": {},
   "source": [
    "On voit que ces algorithmes sans optimisation présentent le fait que le random forest et la régression logistique sont les deux algorithmes sur lesquels nous allons vouloir concentrer nos efforts."
   ]
  },
  {
   "cell_type": "markdown",
   "metadata": {},
   "source": [
    "## Optimisation Random Forest\n",
    "\n",
    "Nous allons tout d'abord observer les résultats et essayer de comprendre qu'elles sont les erreurs engendrées par notre algorithme."
   ]
  },
  {
   "cell_type": "code",
   "execution_count": 47,
   "metadata": {
    "collapsed": true
   },
   "outputs": [],
   "source": [
    "tags_pred = multilabel_binarizer.inverse_transform(np.concatenate([y_pred[:,:29], 0*np.ones((len(y_pred), 1)), y_pred[:,29:]], axis=1))\n",
    "tags_test = multilabel_binarizer.inverse_transform(np.concatenate([y_test[:,:29], 0*np.ones((len(y_test), 1)), y_test[:,29:]], axis=1))"
   ]
  },
  {
   "cell_type": "code",
   "execution_count": 48,
   "metadata": {},
   "outputs": [
    {
     "name": "stdout",
     "output_type": "stream",
     "text": [
      "('delphi',)\n",
      "()\n"
     ]
    }
   ],
   "source": [
    "print(tags_test[0])\n",
    "print(tags_pred[0])"
   ]
  },
  {
   "cell_type": "code",
   "execution_count": 10,
   "metadata": {},
   "outputs": [
    {
     "name": "stdout",
     "output_type": "stream",
     "text": [
      "('sql-server',)\n",
      "('sql-server',)\n"
     ]
    }
   ],
   "source": [
    "print(tags_test[1])\n",
    "print(tags_pred[1])"
   ]
  },
  {
   "cell_type": "code",
   "execution_count": 11,
   "metadata": {},
   "outputs": [
    {
     "name": "stdout",
     "output_type": "stream",
     "text": [
      "('asp.net-mvc', 'c#')\n",
      "()\n"
     ]
    }
   ],
   "source": [
    "print(tags_test[2])\n",
    "print(tags_pred[2])"
   ]
  },
  {
   "cell_type": "code",
   "execution_count": 12,
   "metadata": {},
   "outputs": [
    {
     "name": "stdout",
     "output_type": "stream",
     "text": [
      "('mysql',)\n",
      "('mysql',)\n"
     ]
    }
   ],
   "source": [
    "print(tags_test[3])\n",
    "print(tags_pred[3])"
   ]
  },
  {
   "cell_type": "code",
   "execution_count": 13,
   "metadata": {},
   "outputs": [
    {
     "name": "stdout",
     "output_type": "stream",
     "text": [
      "('database',)\n",
      "('java',)\n"
     ]
    }
   ],
   "source": [
    "print(tags_test[4])\n",
    "print(tags_pred[4])"
   ]
  },
  {
   "cell_type": "code",
   "execution_count": 14,
   "metadata": {},
   "outputs": [
    {
     "name": "stdout",
     "output_type": "stream",
     "text": [
      "('python',)\n",
      "('python',)\n"
     ]
    }
   ],
   "source": [
    "print(tags_test[5])\n",
    "print(tags_pred[5])"
   ]
  },
  {
   "cell_type": "markdown",
   "metadata": {},
   "source": [
    "Après avoir observé les premières occurences de notre algorithme, on observe un premier problème celui des prédictions nulles: lorsque l'algorithme n'arrive à prédire aucun tag."
   ]
  },
  {
   "cell_type": "markdown",
   "metadata": {},
   "source": [
    "On décide d'essayer de voir quels peuvent être les influences d'un mauvais taguages pour un random forest.\n",
    "\n",
    "On peut essayer de voir les questions sur lesquels notre algorithme s'est trompé."
   ]
  },
  {
   "cell_type": "code",
   "execution_count": 49,
   "metadata": {
    "collapsed": true
   },
   "outputs": [],
   "source": [
    "import pickle \n",
    "\n",
    "infile = open(\"clean_train_reviews.pyc\",'rb')\n",
    "clean_train_reviews = pickle.load(infile)\n",
    "infile.close()"
   ]
  },
  {
   "cell_type": "code",
   "execution_count": 50,
   "metadata": {},
   "outputs": [
    {
     "name": "stdout",
     "output_type": "stream",
     "text": [
      "calcul someon age c given datetim repres person birthday calcul age year\n",
      "('asp.net-mvc', 'c#')\n",
      "()\n"
     ]
    }
   ],
   "source": [
    "print(clean_train_reviews[2])\n",
    "print(tags_test[2])\n",
    "print(tags_pred[2])"
   ]
  },
  {
   "cell_type": "code",
   "execution_count": 51,
   "metadata": {},
   "outputs": [
    {
     "name": "stdout",
     "output_type": "stream",
     "text": [
      "determin user timezon ani standard way web server abl determin user timezon within web page perhap http header part user agent string\n",
      "('database',)\n",
      "('java',)\n"
     ]
    }
   ],
   "source": [
    "i = 4\n",
    "print(clean_train_reviews[i])\n",
    "print(tags_test[i])\n",
    "print(tags_pred[i])"
   ]
  },
  {
   "cell_type": "code",
   "execution_count": 57,
   "metadata": {},
   "outputs": [
    {
     "name": "stdout",
     "output_type": "stream",
     "text": [
      "multipl submit button html form let say creat wizard html form one button goe back one goe forward sinc back button appear first markup press enter use button submit form exampl form put cursor thi field press enter input type text name field thi button submit input type submit name prev valu previou page thi button want submit input type submit name next valu next page form would like get decid button use submit form user press enter way press enter wizard move next page previou use tabindex thi\n",
      "('c',)\n",
      "()\n"
     ]
    }
   ],
   "source": [
    "i = 15\n",
    "print(clean_train_reviews[i])\n",
    "print(tags_test[i])\n",
    "print(tags_pred[i])"
   ]
  },
  {
   "cell_type": "code",
   "execution_count": 61,
   "metadata": {},
   "outputs": [
    {
     "name": "stdout",
     "output_type": "stream",
     "text": [
      "page collect linq page collect linq given startindex count\n",
      "('ruby', 'ruby-on-rails')\n",
      "()\n"
     ]
    }
   ],
   "source": [
    "i = 18\n",
    "print(clean_train_reviews[i])\n",
    "print(tags_test[i])\n",
    "print(tags_pred[i])"
   ]
  },
  {
   "cell_type": "code",
   "execution_count": 65,
   "metadata": {},
   "outputs": [
    {
     "name": "stdout",
     "output_type": "stream",
     "text": [
      "get subclips aptana work newest releas subvers version subclips current avail aptana automat plugin manag doe work newest version subvers see subclips websit howev eclips ad new remot updat site updat manag tri instal told need mylyn much search found mylyn ad anoth new remot updat site updat manag tri instal told need org eclips ui equival look configur detail aptana look like built eclips doe anyon know way upgrad version eclips aptana built way get subclips work veri newest version subvers know thi necessarili program question hope ok sinc highli relev program experi\n",
      "('.net', 'c#')\n",
      "()\n"
     ]
    }
   ],
   "source": [
    "i = 20\n",
    "print(clean_train_reviews[i])\n",
    "print(tags_test[i])\n",
    "print(tags_pred[i])"
   ]
  },
  {
   "cell_type": "code",
   "execution_count": 69,
   "metadata": {},
   "outputs": [
    {
     "name": "stdout",
     "output_type": "stream",
     "text": [
      "branch merg tortoisesvn branch merg apach subvers use tortoisesvn client\n",
      "('winforms',)\n",
      "()\n"
     ]
    }
   ],
   "source": [
    "i = 24\n",
    "print(clean_train_reviews[i])\n",
    "print(tags_test[i])\n",
    "print(tags_pred[i])"
   ]
  },
  {
   "cell_type": "markdown",
   "metadata": {},
   "source": [
    "**Remarque:** On va considérer que si les tags prédits correspondent à une partie des tags tests, la réponse est correct comme dans cette exemple:"
   ]
  },
  {
   "cell_type": "code",
   "execution_count": 71,
   "metadata": {},
   "outputs": [
    {
     "name": "stdout",
     "output_type": "stream",
     "text": [
      "flat file databas best practic around creat flat file databas structur php lot matur php flat file framework see attempt implement sql like queri syntax top purpos case would use databas point ani eleg trick get good perform featur small code overhead one would want take thi problem first place\n",
      "('mysql', 'php', 'sql')\n",
      "('mysql',)\n"
     ]
    }
   ],
   "source": [
    "i = 22\n",
    "print(clean_train_reviews[i])\n",
    "print(tags_test[i])\n",
    "print(tags_pred[i])"
   ]
  },
  {
   "cell_type": "markdown",
   "metadata": {},
   "source": [
    "Pour les erreurs observées plus haut on peut remarquer que plus le nombre de mots de la question est faible, plus le taguage est susceptible d'être faux."
   ]
  },
  {
   "cell_type": "code",
   "execution_count": 7,
   "metadata": {
    "collapsed": true
   },
   "outputs": [],
   "source": [
    "x = np.concatenate([y_pred[:,:29], 0*np.ones((len(y_pred), 1)), y_pred[:,29:]], axis=1)\n",
    "tags_pred = multilabel_binarizer.inverse_transform(np.array(x))\n",
    "x = np.concatenate([y_test[:,:29], 0*np.ones((len(y_test), 1)), y_test[:,29:]], axis=1)\n",
    "tags_test = multilabel_binarizer.inverse_transform(np.array(x))\n",
    "\n",
    "from collections import defaultdict\n",
    "tags_values = defaultdict(int)\n",
    "for i in range(0, len(tags_test)):\n",
    "    if len(tags_pred[i]) == 0:\n",
    "        tags_values[i] = -1\n",
    "    else:\n",
    "        for tag in tags_pred[i]:\n",
    "            if tag in tags_test[i]:\n",
    "                tags_values[i] = 1\n",
    "            else:\n",
    "                tags_values[i] = 0\n",
    "                break\n",
    "                \n",
    "x =  np.array(list(tags_values.values()))\n",
    "keys =  np.array(list(tags_values.keys()))\n",
    "TRUE_TAGS_ARG = keys[x == 1]\n",
    "FALSE_TAGS_ARG = keys[x == 0]\n",
    "EMPTY_TAGS_ARG = keys[x == -1]"
   ]
  },
  {
   "cell_type": "code",
   "execution_count": 8,
   "metadata": {
    "collapsed": true
   },
   "outputs": [],
   "source": [
    "count = []\n",
    "count_false = []\n",
    "count_empty = []\n",
    "count_true = []\n",
    "for i in range(0, len(X_test)):\n",
    "    length = sum(X_test[i,:])\n",
    "    count.append(length)\n",
    "    if i in FALSE_TAGS_ARG:\n",
    "        count_false.append(length)\n",
    "    elif i in TRUE_TAGS_ARG:\n",
    "        count_true.append(length)\n",
    "    else:\n",
    "        count_empty.append(length)\n",
    "count = np.array(count)\n",
    "count_false = np.array(count_false)\n",
    "count_true = np.array(count_true)\n",
    "count_empty = np.array(count_empty)"
   ]
  },
  {
   "cell_type": "code",
   "execution_count": 22,
   "metadata": {},
   "outputs": [
    {
     "data": {
      "text/plain": [
       "<matplotlib.legend.Legend at 0x172bc6660f0>"
      ]
     },
     "execution_count": 22,
     "metadata": {},
     "output_type": "execute_result"
    },
    {
     "data": {
      "image/png": "[encoded data removed]",
      "text/plain": [
       "<matplotlib.figure.Figure at 0x172bc3d7f28>"
      ]
     },
     "metadata": {},
     "output_type": "display_data"
    }
   ],
   "source": [
    "%matplotlib inline\n",
    "import matplotlib.patches as mpatches\n",
    "import matplotlib.pyplot as plt\n",
    "fig, axes = plt.subplots()\n",
    "axes.hist([count_false, count_true, count_empty], bins = 20, label=['false tags', 'true tags', 'empty tags'])\n",
    "axes.legend(prop={'size': 10})"
   ]
  },
  {
   "cell_type": "markdown",
   "metadata": {},
   "source": [
    "On observe que la longueur des questions n'est pas le facteur premier pour déterminé si on va trouver un tag à cette question, les distributions sont approximativement similaire."
   ]
  },
  {
   "cell_type": "markdown",
   "metadata": {},
   "source": [
    "On peut essayer de voir la moyenne de mots por chacune de ces catégories:"
   ]
  },
  {
   "cell_type": "code",
   "execution_count": 23,
   "metadata": {},
   "outputs": [
    {
     "name": "stdout",
     "output_type": "stream",
     "text": [
      "44.4788206818\n",
      "43.9157608696\n",
      "40.5976470588\n",
      "45.9975756628\n"
     ]
    }
   ],
   "source": [
    "print(count.mean())\n",
    "print(count_true.mean())\n",
    "print(count_false.mean())\n",
    "print(count_empty.mean())"
   ]
  },
  {
   "cell_type": "markdown",
   "metadata": {},
   "source": [
    "Une nouvelle fois: pas vraiment de différences entre ces différentes catégories."
   ]
  },
  {
   "cell_type": "markdown",
   "metadata": {},
   "source": [
    "On peut maintenant observer le taux d'erreurs que l'on fait pour chacune de ces catégories:"
   ]
  },
  {
   "cell_type": "code",
   "execution_count": 24,
   "metadata": {},
   "outputs": [
    {
     "name": "stdout",
     "output_type": "stream",
     "text": [
      "13984\n",
      "2975\n",
      "12787\n"
     ]
    }
   ],
   "source": [
    "print(len(TRUE_TAGS_ARG))\n",
    "print(len(FALSE_TAGS_ARG))\n",
    "print(len(EMPTY_TAGS_ARG))"
   ]
  },
  {
   "cell_type": "markdown",
   "metadata": {},
   "source": [
    "On fait peu d'erreurs mais on arrive pas souvent à retourner un tag."
   ]
  },
  {
   "cell_type": "markdown",
   "metadata": {},
   "source": [
    "On va observer les mêmes conclusions pour les autres algorithmes présentés précédemment. Nous allons présentés les réultats ici car les temps de compilations sont très longs:\n",
    "\n",
    "|Algorithme| TRUE | FALSE | EMPTY |\n",
    "| ------------- | -------------| --------- |\n",
    "|Random Forest|46%|12%|42%|\n",
    "|Logistic Regression|44%|15%|40%|\n",
    "|Extra Trees|33%|4%|62%|\n",
    "|Voting Classifier|43%|6%|40%|"
   ]
  },
  {
   "cell_type": "markdown",
   "metadata": {},
   "source": [
    "**NB**: Nous avons fait voter les classifieurs étudier précédemment pour voir si les résultats pouvaient être amélioré ce qui n'est pas le cas."
   ]
  },
  {
   "cell_type": "markdown",
   "metadata": {},
   "source": [
    "**Solution**: Lorsque nous voudrons proposer un taguage nous allons tout d'abord observer si l'algorithme extra trees (taux d'erreurs le plus faible) nous renvoie un tag si ce n'est pas le cas, nous allons observer si le random forest nous renvoie un tag, sinon nous utiliserons la régression logistique. De cette manière on diminue un peu le fait de ne retourner aucun tag et nous garderons une erreur la plus faible possible."
   ]
  },
  {
   "cell_type": "markdown",
   "metadata": {},
   "source": [
    "### Test de la solution"
   ]
  },
  {
   "cell_type": "code",
   "execution_count": 10,
   "metadata": {
    "collapsed": true
   },
   "outputs": [],
   "source": [
    "import numpy as np\n",
    "y_pred = []\n",
    "for i in range(0, len(y_pred_extra_trees)):\n",
    "    if sum(y_pred_extra_trees[i,:]) == 0:\n",
    "        if sum(y_pred_lr[i,:]) == 0:\n",
    "            y_pred.append(y_pred_forest[i,:])\n",
    "        else:\n",
    "            y_pred.append(y_pred_lr[i,:])\n",
    "    else:\n",
    "        y_pred.append(y_pred_extra_trees[i,:])\n",
    "y_pred = np.array(y_pred)         "
   ]
  },
  {
   "cell_type": "code",
   "execution_count": 11,
   "metadata": {},
   "outputs": [
    {
     "name": "stdout",
     "output_type": "stream",
     "text": [
      "15665\n",
      "4903\n",
      "9178\n"
     ]
    }
   ],
   "source": [
    "\n",
    "x = np.concatenate([y_pred[:,:29], 0*np.ones((len(y_pred), 1)), y_pred[:,29:]], axis=1)\n",
    "tags_pred = multilabel_binarizer.inverse_transform(np.array(x))\n",
    "x = np.concatenate([y_test[:,:29], 0*np.ones((len(y_test), 1)), y_test[:,29:]], axis=1)\n",
    "tags_test = multilabel_binarizer.inverse_transform(np.array(x))\n",
    "\n",
    "from collections import defaultdict\n",
    "tags_values = defaultdict(int)\n",
    "for i in range(0, len(tags_test)):\n",
    "    if len(tags_pred[i]) == 0:\n",
    "        tags_values[i] = -1\n",
    "    else:\n",
    "        for tag in tags_pred[i]:\n",
    "            if tag in tags_test[i]:\n",
    "                tags_values[i] = 1\n",
    "            else:\n",
    "                tags_values[i] = 0\n",
    "                break\n",
    "                \n",
    "x =  np.array(list(tags_values.values()))\n",
    "keys =  np.array(list(tags_values.keys()))\n",
    "TRUE_TAGS_ARG = keys[x == 1]\n",
    "FALSE_TAGS_ARG = keys[x == 0]\n",
    "EMPTY_TAGS_ARG = keys[x == -1]\n",
    "print(len(TRUE_TAGS_ARG))\n",
    "print(len(FALSE_TAGS_ARG))\n",
    "print(len(EMPTY_TAGS_ARG))"
   ]
  },
  {
   "cell_type": "markdown",
   "metadata": {},
   "source": [
    "On a maintenant 54% des tags qui sont corrects, 30% sans prédictions et 16% avec des erreurs. On a des tags corrects 10% de fois en plus ce qui est déjà très satisfaisant! L'erreur est quasiment la même que pour le random forest et on est incapable de prédire des tags 30% du temps."
   ]
  },
  {
   "cell_type": "markdown",
   "metadata": {},
   "source": [
    "## Conclusion\n",
    "\n",
    "Nous avons dans cette partie essayer de prédire des tags à partir d'un corpus de questions stackoverflows avec leurs titres. Nous avons tout d'abord tester des méthodes non supervisés qui se sont avérés être des méthodes peu précises pour prédire des tags. Nous nous sommes alors tourner vers un taguage supervisé qui lui apporte des résultats bien meilleurs.\n",
    "\n",
    "Après avoir tester quelques algorithmes de classification supervisé à sorties multiples, nous avons essayer d'élaborer une méthode pour améliorer nos résultats. Compte tenu du problème en question qui est d'essayer d'aider les utilisateurs à taguer leurs questions nous avons décider que ce que nous voulions éviter était principalement les tags faux et les retours nuls. \n",
    "\n",
    "Nous avons alors décider de faire tourner les algorithmes les uns après les autres en faisant priorité aux algorithmes qui affichaient le moins d'erreur. Nous nous contentons donc de récupérer le résultat d'un algorithme extra-trees, puis d'une régression logistique puis d'une forêt aléatoire.\n",
    "\n",
    "Nous obtenons un résultat satisfaisant: plus de 50% des tags prédits sont bons, 16% sont faux et le reste n'est pas prédit. Il reste cependant de nombreuses améliorations sur lesquelles ont pourra potentiellement travailler pour améliorer les résultats comme: \n",
    "- choisir un dictionnaire plus pertinent en sélectionnant les mots à la main parmi les mots avec la plus grande occurence pour obtenir de meilleurs features et du coup améliorer le résultat de nos algorihtmes.\n",
    "- tester l'augmentation de la taille de nos échantillons d'entrainement et de tests pour savoir si on peut avoir de meilleurs résultats avec un plus gros volume de données (on avait ici près de 200 000 questions ce qui est déjà très volumineux vis à vis de la puissance de calcul à disposition: 8Go de RAM)\n",
    "- augmenter le nombre d'algorithmes en essayant de garder des algorithmes qui ont approximativement les mêmes résultats que le random forest ou mieux ce qui nous permettrait comme on l'a vu de combiner les résultats de manière intelligente et ainsi encore améliorer nos résultats.\n",
    "- on pourrait également s'intéresser aux tags prédits faux: on a fait ici que compter les tags qui sont faux mais on pourrait essayer d'évaluer à quel point la prédiction est fausse: le tag \"C\" est une erreur moins importante si le tag à prédire était \"C++\" que si on avait prédit le tag \"database\". On pourrait essayer d'introduire une notion de distance entre les tags pour mieux apprécier l'erreur que l'on commet réellement.\n",
    "\n",
    "Ces améliorations n'ont pas été mis en place mais nous avons tout de même essayer d'apporter une solution satisfaisante à ce problème de taguage des questions stack overflows."
   ]
  }
 ],
 "metadata": {
  "kernelspec": {
   "display_name": "Python 3",
   "language": "python",
   "name": "python3"
  },
  "language_info": {
   "codemirror_mode": {
    "name": "ipython",
    "version": 3
   },
   "file_extension": ".py",
   "mimetype": "text/x-python",
   "name": "python",
   "nbconvert_exporter": "python",
   "pygments_lexer": "ipython3",
   "version": "3.6.1"
  }
 },
 "nbformat": 4,
 "nbformat_minor": 2
}
